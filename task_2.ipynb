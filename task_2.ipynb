{
  "nbformat": 4,
  "nbformat_minor": 0,
  "metadata": {
    "colab": {
      "provenance": [],
      "authorship_tag": "ABX9TyNNt2qYvib30a0BtZgLYTdN",
      "include_colab_link": true
    },
    "kernelspec": {
      "name": "python3",
      "display_name": "Python 3"
    },
    "language_info": {
      "name": "python"
    }
  },
  "cells": [
    {
      "cell_type": "markdown",
      "metadata": {
        "id": "view-in-github",
        "colab_type": "text"
      },
      "source": [
        "<a href=\"https://colab.research.google.com/github/Pilipchak/testexam/blob/master/task_2.ipynb\" target=\"_parent\"><img src=\"https://colab.research.google.com/assets/colab-badge.svg\" alt=\"Open In Colab\"/></a>"
      ]
    },
    {
      "cell_type": "markdown",
      "source": [
        "## Общий код для считывания данных\n",
        "\n"
      ],
      "metadata": {
        "id": "0Ni5OfpQR2Hg"
      }
    },
    {
      "cell_type": "code",
      "execution_count": null,
      "metadata": {
        "id": "FLxYne1Yul_a"
      },
      "outputs": [],
      "source": [
        "import numpy as np"
      ]
    },
    {
      "cell_type": "code",
      "source": [
        "def read_matrix(path):\n",
        "    with open(path, 'r') as file:\n",
        "        n = int(file.readline())\n",
        "        matrix = np.zeros((n, n), dtype=int)\n",
        "        for i in range(n):\n",
        "            matrix[i] = list(map(int, file.readline().split()))\n",
        "        return matrix"
      ],
      "metadata": {
        "id": "b_S4hQiUu6rn"
      },
      "execution_count": null,
      "outputs": []
    },
    {
      "cell_type": "code",
      "source": [
        "def read_matrix_f(path):\n",
        "    with open(path, 'r') as file:\n",
        "        n = int(file.readline())\n",
        "        matrix = np.array(list(map(int, file.readline().split()))).reshape((n, n))\n",
        "        return matrix"
      ],
      "metadata": {
        "id": "TTldiJbRxQ3-"
      },
      "execution_count": null,
      "outputs": []
    },
    {
      "cell_type": "code",
      "source": [
        "def read_vector(path):\n",
        "   with open(path, 'r') as file:\n",
        "        n = int(file.readline())\n",
        "        vector = np.array(list(map(int, file.readline().split())))\n",
        "        return vector"
      ],
      "metadata": {
        "id": "ydOcf9-Yu9xO"
      },
      "execution_count": null,
      "outputs": []
    },
    {
      "cell_type": "code",
      "source": [
        "A = read_matrix(\"input.txt\")\n",
        "b = read_vector(\"vector.txt\")\n",
        "\n",
        "B = read_matrix(\"basis.txt\")"
      ],
      "metadata": {
        "id": "EezJV9XXvskP"
      },
      "execution_count": null,
      "outputs": []
    },
    {
      "cell_type": "markdown",
      "source": [
        "## Задача 1"
      ],
      "metadata": {
        "id": "YFaOqF3dR_L-"
      }
    },
    {
      "cell_type": "code",
      "source": [
        "np.linalg.det(A)"
      ],
      "metadata": {
        "colab": {
          "base_uri": "https://localhost:8080/"
        },
        "id": "-wRhM2t22w1O",
        "outputId": "1e9eac47-6dca-4452-c7c1-dc63b604c6e7"
      },
      "execution_count": null,
      "outputs": [
        {
          "output_type": "execute_result",
          "data": {
            "text/plain": [
              "-4.0"
            ]
          },
          "metadata": {},
          "execution_count": 66
        }
      ]
    },
    {
      "cell_type": "markdown",
      "source": [
        "## Задача 2\n"
      ],
      "metadata": {
        "id": "LgcF-8FjSQqe"
      }
    },
    {
      "cell_type": "code",
      "source": [
        "np.trace(A)"
      ],
      "metadata": {
        "colab": {
          "base_uri": "https://localhost:8080/"
        },
        "outputId": "aaaa3498-8824-446c-8f01-35733f555e10",
        "id": "Qs9Uuk5dSQqe"
      },
      "execution_count": null,
      "outputs": [
        {
          "output_type": "execute_result",
          "data": {
            "text/plain": [
              "3"
            ]
          },
          "metadata": {},
          "execution_count": 67
        }
      ]
    },
    {
      "cell_type": "markdown",
      "source": [
        "## Задача 3\n"
      ],
      "metadata": {
        "id": "6DI_tL5GSQ0O"
      }
    },
    {
      "cell_type": "code",
      "source": [
        "inv = np.linalg.solve(A, np.eye(A.shape[0]))\n",
        "inv @ inv @ inv"
      ],
      "metadata": {
        "colab": {
          "base_uri": "https://localhost:8080/"
        },
        "outputId": "0d88b00e-28e7-4111-ddbb-013709e25243",
        "id": "z-bJ6CqOSQ0P"
      },
      "execution_count": null,
      "outputs": [
        {
          "output_type": "execute_result",
          "data": {
            "text/plain": [
              "array([[-1.      ,  0.      ],\n",
              "       [ 0.      ,  0.015625]])"
            ]
          },
          "metadata": {},
          "execution_count": 68
        }
      ]
    },
    {
      "cell_type": "markdown",
      "source": [
        "\n",
        "## Задача 4\n"
      ],
      "metadata": {
        "id": "sD4H_aPzSQ69"
      }
    },
    {
      "cell_type": "code",
      "source": [
        "np.linalg.inv(B) @ A @ B"
      ],
      "metadata": {
        "colab": {
          "base_uri": "https://localhost:8080/"
        },
        "outputId": "e0345f28-41ae-4c8a-9bc8-f4c6e33aaec1",
        "id": "j-0oZ7HsSQ6-"
      },
      "execution_count": null,
      "outputs": [
        {
          "output_type": "execute_result",
          "data": {
            "text/plain": [
              "array([[-1.,  0.],\n",
              "       [ 0.,  4.]])"
            ]
          },
          "metadata": {},
          "execution_count": 69
        }
      ]
    },
    {
      "cell_type": "markdown",
      "source": [
        "## Задача 5\n"
      ],
      "metadata": {
        "id": "N1jVhM8NSRBO"
      }
    },
    {
      "cell_type": "code",
      "source": [
        "np.linalg.solve(A, np.eye(A.shape[0])) @ b"
      ],
      "metadata": {
        "colab": {
          "base_uri": "https://localhost:8080/"
        },
        "outputId": "7b6a175d-f271-42eb-a3d8-587e13ffff04",
        "id": "kTCyP5fWSRBO"
      },
      "execution_count": null,
      "outputs": [
        {
          "output_type": "execute_result",
          "data": {
            "text/plain": [
              "array([-1.  ,  0.25])"
            ]
          },
          "metadata": {},
          "execution_count": 70
        }
      ]
    },
    {
      "cell_type": "markdown",
      "source": [
        "## Задача 6\n",
        "\n"
      ],
      "metadata": {
        "id": "StAxY1b0UiWt"
      }
    },
    {
      "cell_type": "code",
      "source": [
        "sum(np.linalg.eig(A)[0])"
      ],
      "metadata": {
        "colab": {
          "base_uri": "https://localhost:8080/"
        },
        "outputId": "a1fcefc1-1699-4144-cffd-11f2db32cabc",
        "id": "35B2KBhDUiWz"
      },
      "execution_count": null,
      "outputs": [
        {
          "output_type": "execute_result",
          "data": {
            "text/plain": [
              "3.0"
            ]
          },
          "metadata": {},
          "execution_count": 71
        }
      ]
    },
    {
      "cell_type": "markdown",
      "source": [
        "## Задача 7\n"
      ],
      "metadata": {
        "id": "tH9dCW_8UigV"
      }
    },
    {
      "cell_type": "code",
      "source": [
        "max(abs(np.linalg.eig(A)[0]))"
      ],
      "metadata": {
        "colab": {
          "base_uri": "https://localhost:8080/"
        },
        "outputId": "4c72cbfe-a7f8-4391-b1dc-6149c8ff8865",
        "id": "0DxorzA9UigV"
      },
      "execution_count": null,
      "outputs": [
        {
          "output_type": "execute_result",
          "data": {
            "text/plain": [
              "4.0"
            ]
          },
          "metadata": {},
          "execution_count": 72
        }
      ]
    },
    {
      "cell_type": "markdown",
      "source": [
        "## Задача 8\n"
      ],
      "metadata": {
        "id": "iLWQHNwuUi11"
      }
    },
    {
      "cell_type": "code",
      "source": [
        "val, vec = np.linalg.eig(A)\n",
        "index = np.argsort(np.abs(val))[-2]\n",
        "vec[index]"
      ],
      "metadata": {
        "colab": {
          "base_uri": "https://localhost:8080/"
        },
        "outputId": "a2337d65-2079-4518-fca1-3b47836fd9d7",
        "id": "8WP6BW0dUi11"
      },
      "execution_count": 82,
      "outputs": [
        {
          "output_type": "execute_result",
          "data": {
            "text/plain": [
              "array([[1., 0.],\n",
              "       [0., 1.]])"
            ]
          },
          "metadata": {},
          "execution_count": 82
        }
      ]
    }
  ]
}