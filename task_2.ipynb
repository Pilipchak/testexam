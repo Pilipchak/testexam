{
  "nbformat": 4,
  "nbformat_minor": 0,
  "metadata": {
    "colab": {
      "provenance": [],
      "authorship_tag": "ABX9TyNdLW0McEyOKOlmTnnDjpDR"
    },
    "kernelspec": {
      "name": "python3",
      "display_name": "Python 3"
    },
    "language_info": {
      "name": "python"
    }
  },
  "cells": [
    {
      "cell_type": "code",
      "execution_count": null,
      "metadata": {
        "id": "FLxYne1Yul_a"
      },
      "outputs": [],
      "source": [
        "import numpy as np"
      ]
    },
    {
      "cell_type": "code",
      "source": [
        "def read_matrix(path):\n",
        "    with open(path, 'r') as file:\n",
        "        n = int(file.readline())\n",
        "        matrix = np.zeros((n, n), dtype=int)\n",
        "        for i in range(n):\n",
        "            matrix[i] = list(map(int, file.readline().split()))\n",
        "        return matrix"
      ],
      "metadata": {
        "id": "b_S4hQiUu6rn"
      },
      "execution_count": null,
      "outputs": []
    },
    {
      "cell_type": "code",
      "source": [
        "def read_matrix_f(path):\n",
        "    with open(path, 'r') as file:\n",
        "        n = int(file.readline())\n",
        "        matrix = np.array(list(map(int, file.readline().split()))).reshape((n, n))\n",
        "        return matrix"
      ],
      "metadata": {
        "id": "TTldiJbRxQ3-"
      },
      "execution_count": null,
      "outputs": []
    },
    {
      "cell_type": "code",
      "source": [
        "def read_vector(path):\n",
        "   with open(path, 'r') as file:\n",
        "        n = int(file.readline())\n",
        "        vector = np.array(list(map(int, file.readline().split())))\n",
        "        return vector"
      ],
      "metadata": {
        "id": "ydOcf9-Yu9xO"
      },
      "execution_count": null,
      "outputs": []
    },
    {
      "cell_type": "code",
      "source": [
        "A = read_matrix_f(\"input.txt\")\n",
        "b = read_vector(\"vector.txt\")"
      ],
      "metadata": {
        "id": "EezJV9XXvskP"
      },
      "execution_count": null,
      "outputs": []
    },
    {
      "cell_type": "code",
      "source": [
        "np.linalg.solve(A, np.eye(A.shape[0])) @ b"
      ],
      "metadata": {
        "colab": {
          "base_uri": "https://localhost:8080/"
        },
        "id": "-wRhM2t22w1O",
        "outputId": "3b3869fe-d862-4ef7-a25a-be5aded824b1"
      },
      "execution_count": null,
      "outputs": [
        {
          "output_type": "execute_result",
          "data": {
            "text/plain": [
              "array([0. , 0.5])"
            ]
          },
          "metadata": {},
          "execution_count": 41
        }
      ]
    }
  ]
}